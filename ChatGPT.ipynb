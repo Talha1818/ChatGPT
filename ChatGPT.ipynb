{
  "nbformat": 4,
  "nbformat_minor": 0,
  "metadata": {
    "colab": {
      "provenance": []
    },
    "kernelspec": {
      "name": "python3",
      "display_name": "Python 3"
    },
    "language_info": {
      "name": "python"
    }
  },
  "cells": [
    {
      "cell_type": "code",
      "execution_count": null,
      "metadata": {
        "id": "AeTwSfZum1OQ"
      },
      "outputs": [],
      "source": [
        "# !pip install pyChatGPT"
      ]
    },
    {
      "cell_type": "code",
      "source": [
        "from pyChatGPT import ChatGPT"
      ],
      "metadata": {
        "id": "4s2lpskbnH_e"
      },
      "execution_count": null,
      "outputs": []
    },
    {
      "cell_type": "code",
      "source": [
        "session_token = 'xxx'  # `__Secure-next-auth.session-token` cookie from https://chat.openai.com/chat\n",
        "api = ChatGPT(session_token)  # auth with session token"
      ],
      "metadata": {
        "id": "TQSR5zW8nMgJ"
      },
      "execution_count": null,
      "outputs": []
    },
    {
      "cell_type": "code",
      "source": [
        "# api2 = ChatGPT(email='example@domain.com', password='password')  # auth with email and password\n",
        "# api3 = ChatGPT(session_token, conversation_id='some-random-uuid')  # specify a conversation id\n",
        "# api4 = ChatGPT(session_token, proxy='http://proxy.example.com:8080')  # specify proxy\n"
      ],
      "metadata": {
        "id": "8p0eX8IPnOHF"
      },
      "execution_count": null,
      "outputs": []
    },
    {
      "cell_type": "code",
      "source": [
        "resp = api.send_message('What is HIPPA and HITECH?')\n",
        "print(resp['message'])"
      ],
      "metadata": {
        "colab": {
          "base_uri": "https://localhost:8080/"
        },
        "id": "Rp48i5StnZMe",
        "outputId": "fbe6ee52-c627-4abb-c954-2cb910ab284f"
      },
      "execution_count": null,
      "outputs": [
        {
          "output_type": "stream",
          "name": "stdout",
          "text": [
            "HIPAA and HITECH are two important pieces of legislation in the United States. HIPAA, or the Health Insurance Portability and Accountability Act, is a law that protects the privacy of patients' personal and medical information. It sets rules for how this information can be collected, used, and shared by healthcare providers, health plans, and other organizations that handle sensitive medical data.\n",
            "\n",
            "\n",
            "HITECH, or the Health Information Technology for Economic and Clinical Health Act, is a part of the American Recovery and Reinvestment Act of 2009. It provides incentives for healthcare organizations to adopt and use electronic health record (EHR) systems, and it also strengthens the privacy and security provisions of HIPAA. Together, HIPAA and HITECH help to protect patients' personal and medical information and promote the use of technology in healthcare.\n"
          ]
        }
      ]
    },
    {
      "cell_type": "code",
      "source": [
        "\n",
        "api.refresh_auth()  # refresh the authorization token\n",
        "api.reset_conversation()  # reset the conversation"
      ],
      "metadata": {
        "id": "TgN9hwsmnBvX"
      },
      "execution_count": null,
      "outputs": []
    }
  ]
}